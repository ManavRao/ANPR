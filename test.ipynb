{
 "cells": [
  {
   "cell_type": "markdown",
   "metadata": {},
   "source": [
    "# Number Plate Detection"
   ]
  },
  {
   "cell_type": "code",
   "execution_count": 1,
   "metadata": {},
   "outputs": [],
   "source": [
    "import cv2 as cv\n",
    "import numpy as np\n",
    "import os.path\n",
    "import time\n"
   ]
  },
  {
   "cell_type": "code",
   "execution_count": 2,
   "metadata": {},
   "outputs": [],
   "source": [
    "# Initialize the parameters\n",
    "\n",
    "image_name = \"images/test_1.png\"\n",
    "final_plates = []\n",
    "confThreshold = 0.5      #Confidence threshold\n",
    "nmsThreshold = 0.4       #Non-maximum suppression threshold\n",
    "\n",
    "inpWidth = 416  #608     #Width of network's input image\n",
    "inpHeight = 416 #608     #Height of network's input image\n",
    "\n",
    "save_detector = True    #Save Intermedate outputs\n",
    "\n",
    "# Load names of classes\n",
    "classesFile = \"detection/classes.names\";\n",
    "\n",
    "classes = None\n",
    "with open(classesFile, 'rt') as f:\n",
    "    classes = f.read().rstrip('\\n').split('\\n')\n",
    "\n",
    "# Configuration and weight files for the model\n",
    "modelConfiguration = \"detection/darknet-yolov3.cfg\";\n",
    "modelWeights = \"detection/lapi.weights\";\n"
   ]
  },
  {
   "cell_type": "code",
   "execution_count": 3,
   "metadata": {},
   "outputs": [],
   "source": [
    "# Loading the model\n",
    "net = cv.dnn.readNetFromDarknet(modelConfiguration, modelWeights)\n",
    "net.setPreferableBackend(cv.dnn.DNN_BACKEND_OPENCV)\n",
    "net.setPreferableTarget(cv.dnn.DNN_TARGET_CPU)\n"
   ]
  },
  {
   "cell_type": "code",
   "execution_count": 4,
   "metadata": {},
   "outputs": [],
   "source": [
    "# Get the names of the output layers\n",
    "def getOutputsNames(net):\n",
    "    # Get the names of all the layers in the network\n",
    "    layersNames = net.getLayerNames()\n",
    "    # Get the names of the output layers, i.e. the layers with unconnected outputs\n",
    "    return [layersNames[i[0] - 1] for i in net.getUnconnectedOutLayers()]\n"
   ]
  },
  {
   "cell_type": "code",
   "execution_count": 5,
   "metadata": {},
   "outputs": [],
   "source": [
    "# Draw the predicted bounding box\n",
    "def drawPred(classId, conf, left, top, right, bottom, num):\n",
    "    # Draw a bounding box.\n",
    "    #    cv.rectangle(frame, (left, top), (right, bottom), (255, 178, 50), 3)\n",
    "    global save_detector\n",
    "    global image_name\n",
    "    global final_plates\n",
    "    temp_11 = frame[top:bottom, left:right]\n",
    "    final_plates.append(temp_11.copy())\n",
    "        \n",
    "    if save_detector:\n",
    "        temp_name = image_name.split(\"/\")[-1].split(\".\")[0] + \"_test_\"+str(num)+\".jpg\"\n",
    "        cv.imwrite(temp_name , temp_11)\n",
    "        print(\"Number plate saved as\", temp_name)\n",
    "    \n",
    "    cv.rectangle(frame, (left, top), (right, bottom), (0, 255, 0), 3)\n",
    "\n",
    "\n",
    "    label = '%.2f' % conf\n",
    "\n",
    "    # Get the label for the class name and its confidence\n",
    "    if classes:\n",
    "        assert(classId < len(classes))\n",
    "        label = '%s:%s' % (classes[classId], label)\n",
    "\n",
    "    #Display the label at the top of the bounding box\n",
    "    labelSize, baseLine = cv.getTextSize(label, cv.FONT_HERSHEY_SIMPLEX, 0.5, 1)\n",
    "    top = max(top, labelSize[1])\n",
    "    cv.rectangle(frame, (left, top - round(1.5*labelSize[1])), (left + round(1.5*labelSize[0]), top + baseLine), (0, 0, 255), cv.FILLED)\n",
    "    #cv.rectangle(frame, (left, top - round(1.5*labelSize[1])), (left + round(1.5*labelSize[0]), top + baseLine),    (255, 255, 255), cv.FILLED)\n",
    "    cv.putText(frame, label, (left, top), cv.FONT_HERSHEY_SIMPLEX, 0.75, (0,0,0), 2)\n"
   ]
  },
  {
   "cell_type": "code",
   "execution_count": 6,
   "metadata": {},
   "outputs": [],
   "source": [
    "# Remove the bounding boxes with low confidence using non-maxima suppression\n",
    "def postprocess(frame, outs):\n",
    "    frameHeight = frame.shape[0]\n",
    "    frameWidth = frame.shape[1]\n",
    "\n",
    "    classIds = []\n",
    "    confidences = []\n",
    "    boxes = []\n",
    "    # Scan through all the bounding boxes output from the network and keep only the\n",
    "    # ones with high confidence scores. Assign the box's class label as the class with the highest score.\n",
    "    classIds = []\n",
    "    confidences = []\n",
    "    boxes = []\n",
    "    for out in outs:\n",
    "        print(\"out.shape : \", out.shape)\n",
    "        for detection in out:\n",
    "            #if detection[4]>0.001:\n",
    "            scores = detection[5:]\n",
    "            classId = np.argmax(scores)\n",
    "            #if scores[classId]>confThreshold:\n",
    "            confidence = scores[classId]\n",
    "            if detection[4]>confThreshold:\n",
    "                print(detection[4], \" - \", scores[classId], \" - th : \", confThreshold)\n",
    "                print(detection)\n",
    "            if confidence > confThreshold:\n",
    "                center_x = int(detection[0] * frameWidth)\n",
    "                center_y = int(detection[1] * frameHeight)\n",
    "                width = int(detection[2] * frameWidth)\n",
    "                height = int(detection[3] * frameHeight)\n",
    "                left = int(center_x - width / 2)\n",
    "                top = int(center_y - height / 2)\n",
    "                classIds.append(classId)\n",
    "                confidences.append(float(confidence))\n",
    "                boxes.append([left, top, width, height])\n",
    "\n",
    "    # Perform non maximum suppression to eliminate redundant overlapping boxes with\n",
    "    # lower confidences.\n",
    "    indices = cv.dnn.NMSBoxes(boxes, confidences, confThreshold, nmsThreshold)\n",
    "    for i in indices:\n",
    "        i = i[0]\n",
    "        box = boxes[i]\n",
    "        left = box[0]\n",
    "        top = box[1]\n",
    "        width = box[2]\n",
    "        height = box[3]\n",
    "        drawPred(classIds[i], confidences[i], left, top, left + width, top + height, i)\n"
   ]
  },
  {
   "cell_type": "code",
   "execution_count": 7,
   "metadata": {},
   "outputs": [],
   "source": [
    "# Open the image file\n",
    "if not os.path.isfile(image_name):\n",
    "    print(\"Input image file \", image_name, \" doesn't exist\")\n",
    "\n",
    "cap = cv.VideoCapture(image_name)\n",
    "outputFile = image_name.split(\"/\")[-1].split(\".\")[0] +'_yolo_out_py.jpg'"
   ]
  },
  {
   "cell_type": "code",
   "execution_count": 8,
   "metadata": {
    "scrolled": true
   },
   "outputs": [
    {
     "name": "stdout",
     "output_type": "stream",
     "text": [
      "out.shape :  (507, 6)\n",
      "out.shape :  (2028, 6)\n",
      "0.9563904  -  0.9556647  - th :  0.5\n",
      "[0.5297977  0.5976266  0.40434062 0.07722767 0.9563904  0.9556647 ]\n",
      "out.shape :  (8112, 6)\n",
      "Number plate saved as test_1_test_0.jpg\n",
      "Inference time: 671.28 ms\n",
      "Done processing !!!\n",
      "Output file is stored as  test_1_yolo_out_py.jpg\n"
     ]
    }
   ],
   "source": [
    "while cv.waitKey(1) < 0:\n",
    "\n",
    "    # get frame from the video\n",
    "    hasFrame, frame = cap.read()\n",
    "\n",
    "    # Stop the program if reached end of video\n",
    "    if not hasFrame:\n",
    "        if save_detector:\n",
    "            print(\"Done processing !!!\")\n",
    "            print(\"Output file is stored as \", outputFile)\n",
    "        break\n",
    "\n",
    "    # Create a 4D blob from a frame.\n",
    "    blob = cv.dnn.blobFromImage(frame, 1/255, (inpWidth, inpHeight), [0,0,0], 1, crop=False)\n",
    "\n",
    "    # Sets the input to the network\n",
    "    net.setInput(blob)\n",
    "\n",
    "    # Runs the forward pass to get output of the output layers\n",
    "    outs = net.forward(getOutputsNames(net))\n",
    "\n",
    "    # Remove the bounding boxes with low confidence\n",
    "    postprocess(frame, outs)\n",
    "\n",
    "    # Put efficiency information. The function getPerfProfile returns the overall time for inference(t) and the timings for each of the layers(in layersTimes)\n",
    "    t, _ = net.getPerfProfile()\n",
    "    label = 'Inference time: %.2f ms' % (t * 1000.0 / cv.getTickFrequency())\n",
    "    #cv.putText(frame, label, (0, 15), cv.FONT_HERSHEY_SIMPLEX, 0.5, (0, 0, 255))\n",
    "    print(label)\n",
    "    # Write the frame with the detection boxes\n",
    "    if save_detector:\n",
    "        cv.imwrite(outputFile, frame.astype(np.uint8));\n"
   ]
  },
  {
   "cell_type": "code",
   "execution_count": 26,
   "metadata": {},
   "outputs": [
    {
     "data": {
      "image/png": "[encoded data removed]",
      "text/plain": [
       "<Figure size 576x576 with 1 Axes>"
      ]
     },
     "metadata": {},
     "output_type": "display_data"
    }
   ],
   "source": [
    "import matplotlib.pyplot as plt\n",
    "\n",
    "w=10\n",
    "h=10\n",
    "fig=plt.figure(figsize=(8, 8))\n",
    "columns = 1\n",
    "rows = len(final_plates)\n",
    "for i in range(1, columns*rows +1):\n",
    "    img = final_plates[i-1]\n",
    "    fig.add_subplot(rows, columns, i)\n",
    "    plt.imshow(img)\n",
    "plt.show()"
   ]
  },
  {
   "cell_type": "markdown",
   "metadata": {},
   "source": [
    "# Number Plate Recognition"
   ]
  },
  {
   "cell_type": "code",
   "execution_count": 10,
   "metadata": {},
   "outputs": [],
   "source": [
    "import cv2\n",
    "import numpy as np\n",
    "import scipy.ndimage\n",
    "import joblib\n",
    "import pytesseract\n",
    "from scipy.signal import find_peaks\n"
   ]
  },
  {
   "cell_type": "code",
   "execution_count": 11,
   "metadata": {},
   "outputs": [],
   "source": [
    "def new_ocr(img, ans):\n",
    "    img_gray = cv2.cvtColor(img, cv2.COLOR_BGR2GRAY)\n",
    "\n",
    "    (thresh, im_bw) = cv2.threshold(img_gray, 128, 255, cv2.THRESH_BINARY | cv2.THRESH_OTSU)\n",
    "    in_im_bw = cv2.bitwise_not(im_bw)\n",
    "    \n",
    "    if sum(im_bw.flatten()) < sum(in_im_bw.flatten()):\n",
    "        img = im_bw\n",
    "    else:\n",
    "        img = in_im_bw\n",
    "    #height\n",
    "    a,b = img.shape\n",
    "    x = np.sum(img, axis=1)\n",
    "\n",
    "    x = x*-1\n",
    "    mins, _ = find_peaks(x)\n",
    "    x = x*-1\n",
    "    y = [m for m in range(a)] \n",
    "\n",
    "    scale = max(x)/max(y)\n",
    "    x = x-((a//10)*scale)\n",
    "    x[x<0] = 0\n",
    "\n",
    "    top = 0\n",
    "    bottom = a-1\n",
    "\n",
    "    while(x[top]==0):\n",
    "        top += 1\n",
    "\n",
    "    while(x[bottom]==0):\n",
    "        bottom -=1\n",
    "\n",
    "\n",
    "    top = max(0, top-1)\n",
    "    bottom = min(bottom+1, a-1)\n",
    "\n",
    "    val_top = x[top]\n",
    "    val_bottom = x[bottom]\n",
    "\n",
    "    mins = [top] + list(mins) + [bottom]\n",
    "\n",
    "    for i in mins:\n",
    "        if i < a//2:\n",
    "            if x[i]<=val_top:\n",
    "                val_top = x[i]\n",
    "                top = i\n",
    "            else:\n",
    "                continue\n",
    "\n",
    "    for i in mins[::-1]:\n",
    "        if i>a//2:\n",
    "            if x[i]<=val_bottom:\n",
    "                val_bottom = x[i]\n",
    "                bottom = i\n",
    "            else:\n",
    "                continue\n",
    "    #width\n",
    "    img = img[top:bottom,:]\n",
    "    a,b = img.shape\n",
    "\n",
    "\n",
    "    x = np.sum(img, axis=0)\n",
    "    x =x*-1\n",
    "    mins, _ = find_peaks(x)\n",
    "    x =x*-1\n",
    "    y = [m for m in range(b)] \n",
    "\n",
    "    left = 0\n",
    "    right = b-1\n",
    "\n",
    "    while(x[left]==0):\n",
    "        left+=1\n",
    "\n",
    "    while(x[right]==0):\n",
    "        right-=1\n",
    "\n",
    "    for i in range(left, b//3):\n",
    "        if x[i]==a*255:\n",
    "            left = i+1\n",
    "\n",
    "\n",
    "    for i in range(2*b//3, right):\n",
    "        if x[i]==a*255:\n",
    "            right = i-1\n",
    "\n",
    "    left = max(0, left-1)\n",
    "    right = min(right+1, b-1)\n",
    "\n",
    "    val_left = x[left]\n",
    "    val_right = x[right]\n",
    "\n",
    "    mins = [left] + list(mins) + [right]\n",
    "\n",
    "    for i in mins:\n",
    "        if i < b//2:\n",
    "            if x[i]<val_left:\n",
    "                val_left = x[i]\n",
    "                left = i\n",
    "            else:\n",
    "                continue\n",
    "        else:\n",
    "            if x[i]<=val_right:\n",
    "                val_right = x[i]\n",
    "                right = i\n",
    "            else:\n",
    "                continue\n",
    "    img = img[:, left:right]\n",
    "    a,b = img.shape\n",
    "    print(a,b, b/a)\n",
    "    brdr = a//4\n",
    "    constant= cv2.copyMakeBorder(img,brdr,brdr,brdr,brdr,cv2.BORDER_CONSTANT)\n",
    "    plt.imshow(constant, cmap = 'gray')\n",
    "    pre_ans = pytesseract.image_to_string(constant)\n",
    "    final_ans = \"\"\n",
    "    allowed = [chr(i) for i in range(65,91)] + [chr(i) for i in range(48,58)] + [\" \"]\n",
    "    for i in pre_ans:\n",
    "        if i not in allowed:\n",
    "            pass\n",
    "        else:\n",
    "            final_ans+=i\n",
    "    return final_ans\n",
    "    "
   ]
  },
  {
   "cell_type": "code",
   "execution_count": 12,
   "metadata": {},
   "outputs": [
    {
     "name": "stdout",
     "output_type": "stream",
     "text": [
      "Tesseract Output -TN37BU 3146\n",
      "18 111 6.166666666666667\n",
      "Processed Output  PA RE\n",
      "-------------------------------------------------------------\n",
      "1.0284337997436523\n",
      "0.18175482749938965\n"
     ]
    },
    {
     "data": {
      "image/png": "[encoded data removed]",
      "text/plain": [
       "<Figure size 432x288 with 1 Axes>"
      ]
     },
     "metadata": {},
     "output_type": "display_data"
    }
   ],
   "source": [
    "main_time_temp = 0\n",
    "main_time = 0\n",
    "for plate in final_plates:\n",
    "\n",
    "    # Load image\n",
    "#     print(plate.shape)\n",
    "    start = time.time()\n",
    "    ans = pytesseract.image_to_string(plate)\n",
    "    end = time.time()\n",
    "    \n",
    "    main_time += end-start\n",
    "    print(\"Tesseract Output\", ans)\n",
    "    \n",
    "    start = time.time()\n",
    "    ans1 = new_ocr(plate, ans)\n",
    "    end = time.time()\n",
    "    main_time_temp += end-start\n",
    "    print(\"Processed Output\", ans1)\n",
    "    print(\"-------------------------------------------------------------\")\n",
    "print(main_time)\n",
    "print(main_time_temp)"
   ]
  },
  {
   "cell_type": "code",
   "execution_count": 13,
   "metadata": {},
   "outputs": [
    {
     "data": {
      "text/plain": [
       "<matplotlib.image.AxesImage at 0x7f0551571cf8>"
      ]
     },
     "execution_count": 13,
     "metadata": {},
     "output_type": "execute_result"
    },
    {
     "data": {
      "image/png": "[encoded data removed]",
      "text/plain": [
       "<Figure size 432x288 with 1 Axes>"
      ]
     },
     "metadata": {},
     "output_type": "display_data"
    }
   ],
   "source": [
    "img = final_plates[-1]\n",
    "img_gray = cv2.cvtColor(img, cv2.COLOR_BGR2GRAY)\n",
    "epsilon = 1\n",
    "\n",
    "(thresh, im_bw) = cv2.threshold(img_gray, 128, 255, cv2.THRESH_BINARY | cv2.THRESH_OTSU)\n",
    "in_im_bw = cv2.bitwise_not(im_bw)\n",
    "\n",
    "if sum(im_bw.flatten()) < sum(in_im_bw.flatten()):\n",
    "    # img = img\n",
    "    img = im_bw\n",
    "else:\n",
    "    # img = cv2.bitwise_not(img)\n",
    "    img = in_im_bw\n",
    "\n",
    "plt.imshow(img, cmap='gray')"
   ]
  },
  {
   "cell_type": "code",
   "execution_count": 14,
   "metadata": {},
   "outputs": [
    {
     "name": "stdout",
     "output_type": "stream",
     "text": [
      "27 131\n",
      "scale 510.0\n",
      "[ 4 11 16]\n",
      "[0, 4, 11, 16, 22]\n",
      "[0, 4, 11, 16, 22]\n",
      "[0.0, 0.0, 8670.0, 7905.0, 0.0]\n",
      "4 22\n",
      "0.0 0.0\n"
     ]
    },
    {
     "data": {
      "image/png": "[encoded data removed]",
      "text/plain": [
       "<Figure size 432x288 with 1 Axes>"
      ]
     },
     "metadata": {},
     "output_type": "display_data"
    }
   ],
   "source": [
    "temp = img\n",
    "a,b = temp.shape\n",
    "print(a,b)\n",
    "ratio = b/a\n",
    "#height\n",
    "x = np.sum(temp, axis=1)\n",
    "\n",
    "x = x*-1\n",
    "mins, _ = find_peaks(x)\n",
    "x = x*-1\n",
    "y = [m for m in range(a)] \n",
    "\n",
    "scale = max(x)/max(y)\n",
    "print('scale',scale)\n",
    "x = x-((a//10)*scale)\n",
    "x[x<0] = 0\n",
    "\n",
    "plt.plot(y,x/scale) \n",
    "print(mins)\n",
    "\n",
    "top = 0\n",
    "bottom = a-1\n",
    "\n",
    "while(x[top]==0):\n",
    "    top += 1\n",
    "    \n",
    "while(x[bottom]==0):\n",
    "    bottom -=1\n",
    "\n",
    "\n",
    "top = max(0, top-1)\n",
    "bottom = min(bottom+1, a-1)\n",
    "\n",
    "val_top = x[top]\n",
    "val_bottom = x[bottom]\n",
    "\n",
    "mins = [top] + list(mins) + [bottom]\n",
    "print(mins)\n",
    "\n",
    "for i in mins:\n",
    "    if i < a//2:\n",
    "        if x[i]<=val_top:\n",
    "            val_top = x[i]\n",
    "            top = i\n",
    "        else:\n",
    "            continue\n",
    "            \n",
    "for i in mins[::-1]:\n",
    "    if i>a//2:\n",
    "        if x[i]<=val_bottom:\n",
    "            val_bottom = x[i]\n",
    "            bottom = i\n",
    "        else:\n",
    "            continue\n",
    "\n",
    "            \n",
    "            \n",
    "            \n",
    "            \n",
    "# def delta(a, b, ai, bi):\n",
    "#     ans = float(bi-b)/(ai-a)\n",
    "#     return ans/scale\n",
    "\n",
    "# final_top = top\n",
    "# final_bottom = bottom\n",
    "\n",
    "# for i in mins[1:len(mins)-1]:\n",
    "#     if i < a//2:\n",
    "#         val = abs(delta(top, val_top, i, x[i]))\n",
    "#         print(val, top, val_top, i, x[i])\n",
    "#         if val>epsilon:\n",
    "#             final_top = top\n",
    "#         top = i\n",
    "#         val_top = x[i]\n",
    "#         print('final',final_top)\n",
    "\n",
    "\n",
    "# print(\"sadasddasd\")\n",
    "\n",
    "# for i in mins[::-1][1:len(mins)-1]:\n",
    "#     if i > a//2:\n",
    "#         val = abs(delta(bottom, val_bottom, i, x[i]))\n",
    "#         print(val, bottom, val_bottom, i, x[i])\n",
    "#         if val > epsilon:\n",
    "#             final_bottom = bottom\n",
    "#         bottom = i\n",
    "#         val_bottom = x[i]\n",
    "#         print('final',final_bottom)\n",
    "\n",
    "# top = final_top\n",
    "# bottom = final_bottom\n",
    "\n",
    "plt.plot(mins,x[mins]/scale,\"x\")\n",
    "# plt.imshow(temp, cmap=\"gray\")\n",
    "print(mins)\n",
    "print(list(x[mins]))\n",
    "print(top, bottom)\n",
    "print(x[top], x[bottom])"
   ]
  },
  {
   "cell_type": "code",
   "execution_count": 15,
   "metadata": {},
   "outputs": [
    {
     "data": {
      "text/plain": [
       "<matplotlib.image.AxesImage at 0x7f05514fd898>"
      ]
     },
     "execution_count": 15,
     "metadata": {},
     "output_type": "execute_result"
    },
    {
     "data": {
      "image/png": "[encoded data removed]",
      "text/plain": [
       "<Figure size 432x288 with 1 Axes>"
      ]
     },
     "metadata": {},
     "output_type": "display_data"
    }
   ],
   "source": [
    "# bottom = 171\n",
    "temp = img[top:bottom,:]\n",
    "plt.imshow(temp, cmap='gray')"
   ]
  },
  {
   "cell_type": "code",
   "execution_count": 16,
   "metadata": {},
   "outputs": [
    {
     "name": "stdout",
     "output_type": "stream",
     "text": [
      "18 131\n",
      "[ 18  22  30  37  43  48  54  61  66  71  79  85  91  99 104 110 115]\n",
      "4335.0\n",
      "[9, 18, 22, 30, 37, 43, 48, 54, 61, 66, 71, 79, 85, 91, 99, 104, 110, 115, 120]\n",
      "[9, 18, 22, 30, 37, 43, 48, 54, 61, 66, 71, 79, 85, 91, 99, 104, 110, 115, 120]\n",
      "[0.0, 0.0, 2040.0, 0.0, 1530.0, 0.0, 2295.0, 0.0, 1785.0, 0.0, 510.0, 0.0, 1530.0, 0.0, 0.0, 2040.0, 0.0, 2040.0, 0.0]\n",
      "9 120\n"
     ]
    },
    {
     "data": {
      "image/png": "[encoded data removed]",
      "text/plain": [
       "<Figure size 432x288 with 1 Axes>"
      ]
     },
     "metadata": {},
     "output_type": "display_data"
    }
   ],
   "source": [
    "temp = img[top:bottom,:]\n",
    "a,b = temp.shape\n",
    "print(a,b)\n",
    "\n",
    "\n",
    "x = np.sum(temp, axis=0)\n",
    "x =x*-1\n",
    "mins, _ = find_peaks(x)\n",
    "x =x*-1\n",
    "y = [m for m in range(b)] \n",
    "plt.plot(y,x) \n",
    "print(mins)\n",
    "print(max(x))\n",
    "\n",
    "left = 0\n",
    "right = b-1\n",
    "\n",
    "while(x[left]==0):\n",
    "    left+=1\n",
    "    \n",
    "while(x[right]==0):\n",
    "    right-=1\n",
    "\n",
    "for i in range(left, b//3):\n",
    "    if x[i]==a*255:\n",
    "        left = i+1\n",
    "\n",
    "        \n",
    "for i in range(2*b//3, right):\n",
    "    if x[i]==a*255:\n",
    "        right = i-1\n",
    "    \n",
    "left = max(0, left-1)\n",
    "right = min(right+1, b-1)\n",
    "\n",
    "val_left = x[left]\n",
    "val_right = x[right]\n",
    "\n",
    "mins = [left] + list(mins) + [right]\n",
    "print(mins)\n",
    "\n",
    "for i in mins:\n",
    "    if i < b//2:\n",
    "        if x[i]<val_left:\n",
    "            val_left = x[i]\n",
    "            left = i\n",
    "        else:\n",
    "            continue\n",
    "    else:\n",
    "        if x[i]<=val_right:\n",
    "            val_right = x[i]\n",
    "            right = i\n",
    "        else:\n",
    "            continue\n",
    "\n",
    "\n",
    "plt.plot(mins,x[mins],\"x\")\n",
    "# plt.imshow(temp, cmap=\"gray\")\n",
    "print(mins)\n",
    "print(list(x[mins]))\n",
    "print(left,right)"
   ]
  },
  {
   "cell_type": "code",
   "execution_count": 17,
   "metadata": {},
   "outputs": [
    {
     "data": {
      "text/plain": [
       "<matplotlib.image.AxesImage at 0x7f05513ecc18>"
      ]
     },
     "execution_count": 17,
     "metadata": {},
     "output_type": "execute_result"
    },
    {
     "data": {
      "image/png": "[encoded data removed]",
      "text/plain": [
       "<Figure size 432x288 with 1 Axes>"
      ]
     },
     "metadata": {},
     "output_type": "display_data"
    }
   ],
   "source": [
    "temp = img[:,left:right]\n",
    "plt.imshow(temp, cmap='gray')"
   ]
  },
  {
   "cell_type": "code",
   "execution_count": 18,
   "metadata": {},
   "outputs": [
    {
     "name": "stdout",
     "output_type": "stream",
     "text": [
      "18 111\n"
     ]
    },
    {
     "data": {
      "image/png": "[encoded data removed]",
      "text/plain": [
       "<Figure size 432x288 with 1 Axes>"
      ]
     },
     "metadata": {},
     "output_type": "display_data"
    }
   ],
   "source": [
    "temp = img[top:bottom, left:right]\n",
    "plt.imshow(temp, cmap='gray')\n",
    "a,b = temp.shape\n",
    "print(a,b)"
   ]
  },
  {
   "cell_type": "code",
   "execution_count": 25,
   "metadata": {},
   "outputs": [
    {
     "name": "stdout",
     "output_type": "stream",
     "text": [
      "6.166666666666667 9\n",
      "EEE\n"
     ]
    },
    {
     "data": {
      "image/png": "[encoded data removed]",
      "text/plain": [
       "<Figure size 432x288 with 1 Axes>"
      ]
     },
     "metadata": {},
     "output_type": "display_data"
    }
   ],
   "source": [
    "brdr = 15\n",
    "print(b/a, a//2)\n",
    "constant= cv2.copyMakeBorder(temp,brdr,brdr,brdr,brdr,cv2.BORDER_CONSTANT)\n",
    "plt.imshow(constant, cmap = 'gray')\n",
    "custom_oem_psm_config = r'--oem 3 --psm 10'\n",
    "print(pytesseract.image_to_string(constant, config=custom_oem_psm_config))"
   ]
  }
 ],
 "metadata": {
  "kernelspec": {
   "display_name": "Python 3",
   "language": "python",
   "name": "python3"
  },
  "language_info": {
   "codemirror_mode": {
    "name": "ipython",
    "version": 3
   },
   "file_extension": ".py",
   "mimetype": "text/x-python",
   "name": "python",
   "nbconvert_exporter": "python",
   "pygments_lexer": "ipython3",
   "version": "3.6.8"
  }
 },
 "nbformat": 4,
 "nbformat_minor": 2
}
